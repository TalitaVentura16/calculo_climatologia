{
 "cells": [
  {
   "cell_type": "code",
   "execution_count": 1,
   "metadata": {},
   "outputs": [
    {
     "ename": "ModuleNotFoundError",
     "evalue": "No module named 'matplotlib'",
     "output_type": "error",
     "traceback": [
      "\u001b[0;31m---------------------------------------------------------------------------\u001b[0m",
      "\u001b[0;31mModuleNotFoundError\u001b[0m                       Traceback (most recent call last)",
      "Cell \u001b[0;32mIn[1], line 3\u001b[0m\n\u001b[1;32m      1\u001b[0m \u001b[38;5;28;01mimport\u001b[39;00m \u001b[38;5;21;01mpandas\u001b[39;00m \u001b[38;5;28;01mas\u001b[39;00m \u001b[38;5;21;01mpd\u001b[39;00m\n\u001b[1;32m      2\u001b[0m \u001b[38;5;28;01mimport\u001b[39;00m \u001b[38;5;21;01mnumpy\u001b[39;00m \u001b[38;5;28;01mas\u001b[39;00m \u001b[38;5;21;01mnp\u001b[39;00m\n\u001b[0;32m----> 3\u001b[0m \u001b[38;5;28;01mimport\u001b[39;00m \u001b[38;5;21;01mmatplotlib\u001b[39;00m\u001b[38;5;21;01m.\u001b[39;00m\u001b[38;5;21;01mpyplot\u001b[39;00m \u001b[38;5;28;01mas\u001b[39;00m \u001b[38;5;21;01mplt\u001b[39;00m\n\u001b[1;32m      4\u001b[0m \u001b[38;5;28;01mimport\u001b[39;00m \u001b[38;5;21;01mseaborn\u001b[39;00m \u001b[38;5;28;01mas\u001b[39;00m \u001b[38;5;21;01msns\u001b[39;00m\n\u001b[1;32m      5\u001b[0m \u001b[38;5;28;01mimport\u001b[39;00m \u001b[38;5;21;01mstatsmodels\u001b[39;00m\u001b[38;5;21;01m.\u001b[39;00m\u001b[38;5;21;01mformula\u001b[39;00m\u001b[38;5;21;01m.\u001b[39;00m\u001b[38;5;21;01mapi\u001b[39;00m \u001b[38;5;28;01mas\u001b[39;00m \u001b[38;5;21;01msmf\u001b[39;00m\n",
      "\u001b[0;31mModuleNotFoundError\u001b[0m: No module named 'matplotlib'"
     ]
    }
   ],
   "source": [
    "import pandas as pd\n",
    "import numpy as np\n",
    "import matplotlib.pyplot as plt\n",
    "import seaborn as sns\n",
    "import statsmodels.formula.api as smf\n",
    "\n",
    "# Lista de arquivos e nomes das áreas\n",
    "arquivos = [\n",
    "    (\"Amazonia_pentada_areaDematada3_precipitacao.xlsx\", \"Área Desmatada 3\"),\n",
    "    (\"Amazonia_pentada_areaDesmatada1.xlsx\", \"Área Desmatada 1\"),\n",
    "    (\"Amazonia_pentada_areaDesmatada2.xlsx\", \"Área Desmatada 2\"),\n",
    "    (\"Amazonia_pentada_areaDesmatada4.xlsx\", \"Área Desmatada 4\"),\n",
    "    (\"AreaPreservada1.xlsx\", \"Área Preservada 1\"),\n",
    "    (\"AreaPreservada2.xlsx\", \"Área Preservada 2\")\n",
    "]\n",
    "\n",
    "# Caminho base dos arquivos\n",
    "caminho_base = \"/home/talita/Documentos/calculo_climatologia/estudoEstacaoSeca/Dados/\"\n",
    "\n",
    "# Carregar e combinar os dados\n",
    "dados = []\n",
    "\n",
    "for arquivo, nome_area in arquivos:\n",
    "    df = pd.read_excel(caminho_base + arquivo)\n",
    "    df['Área'] = nome_area\n",
    "    dados.append(df)\n",
    "\n",
    "# Combinar todos os dados em um único DataFrame\n",
    "df_completo = pd.concat(dados, ignore_index=True)\n",
    "\n",
    "# Verificar as colunas disponíveis (ajuste conforme necessário)\n",
    "print(df_completo.columns)\n",
    "\n",
    "# Calcular a duração da estação seca\n",
    "df_completo['Duracao_Seca'] = df_completo['Pentada_Fim_Seca'] - df_completo['Pentada_Início_Seca']\n",
    "\n",
    "# Regressão Linear Multivariada\n",
    "modelo = smf.ols('Duracao_Seca ~ Ano + C(Área)', data=df_completo).fit()\n",
    "print(\"\\n--- Resumo do Modelo de Regressão ---\")\n",
    "print(modelo.summary())\n",
    "\n",
    "# Plotar as tendências das áreas\n",
    "plt.figure(figsize=(12, 8))\n",
    "sns.lmplot(\n",
    "    data=df_completo,\n",
    "    x=\"Ano\",\n",
    "    y=\"Duracao_Seca\",\n",
    "    hue=\"Área\",\n",
    "    height=6,\n",
    "    aspect=1.5,\n",
    "    markers=[\"o\", \"s\", \"D\", \"^\", \"v\", \"*\"],\n",
    "    ci=None\n",
    ")\n",
    "plt.title(\"Tendência da Duração da Estação Seca por Área\", fontsize=14, fontweight=\"bold\")\n",
    "plt.xlabel(\"Ano\", fontsize=12)\n",
    "plt.ylabel(\"Duração da Estação Seca (pentadas)\", fontsize=12)\n",
    "plt.grid(axis=\"both\", linestyle=\"--\", alpha=0.5)\n",
    "plt.tight_layout()\n",
    "plt.show()\n"
   ]
  }
 ],
 "metadata": {
  "kernelspec": {
   "display_name": "Python 3",
   "language": "python",
   "name": "python3"
  },
  "language_info": {
   "codemirror_mode": {
    "name": "ipython",
    "version": 3
   },
   "file_extension": ".py",
   "mimetype": "text/x-python",
   "name": "python",
   "nbconvert_exporter": "python",
   "pygments_lexer": "ipython3",
   "version": "3.11.2"
  }
 },
 "nbformat": 4,
 "nbformat_minor": 2
}
